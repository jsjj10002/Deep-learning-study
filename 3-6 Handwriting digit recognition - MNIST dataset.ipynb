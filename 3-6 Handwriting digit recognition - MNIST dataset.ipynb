{
 "cells": [
  {
   "cell_type": "code",
   "execution_count": 1,
   "id": "18fbcdcf",
   "metadata": {},
   "outputs": [],
   "source": [
    "#부모 디렉터리의 파일을 가져올 수 있도록 설정\n",
    "import sys , os\n",
    "sys.path.append(os.pardir)\n",
    "#.dataset/mnist.py의 load_mnist를 임포트 \n",
    "from dataset.mnist import load_mnist"
   ]
  },
  {
   "cell_type": "code",
   "execution_count": 2,
   "id": "ed908558",
   "metadata": {},
   "outputs": [],
   "source": [
    "#(훈련이미지,훈련레이블), (시험 이미지, 시험 레이블) 형태로 반환\n",
    "(x_train, t_train), (x_test, t_test) = \\\n",
    "load_mnist(flatten=True, normalize=False)\n",
    "#인수로 nomalize, flatten, one_hot_label 설정가능 (bool)"
   ]
  },
  {
   "cell_type": "code",
   "execution_count": 3,
   "id": "1c5b863e",
   "metadata": {},
   "outputs": [
    {
     "name": "stdout",
     "output_type": "stream",
     "text": [
      "(60000, 784)\n",
      "(60000,)\n",
      "(10000, 784)\n",
      "(10000,)\n"
     ]
    }
   ],
   "source": [
    "print(x_train.shape)\n",
    "print(t_train.shape)\n",
    "print(x_test.shape)\n",
    "print(t_test.shape)"
   ]
  },
  {
   "cell_type": "markdown",
   "id": "14f132d2",
   "metadata": {},
   "source": [
    "### MNIST 데이터를 화면에 불러오기"
   ]
  },
  {
   "cell_type": "code",
   "execution_count": 4,
   "id": "71029649",
   "metadata": {},
   "outputs": [
    {
     "name": "stdout",
     "output_type": "stream",
     "text": [
      "5\n",
      "(784,)\n",
      "(28, 28)\n"
     ]
    }
   ],
   "source": [
    "import sys, os\n",
    "sys.path.append(os.pardir)\n",
    "import numpy as np\n",
    "from dataset.mnist import load_mnist\n",
    "from PIL import Image\n",
    "\n",
    "def img_show(img):\n",
    "    pil_img = Image.fromarray(np.uint8(img)) #넘파이로 변환된 데이터 PIL용 데이터 객체로 변환 \n",
    "    pil_img.show()\n",
    "\n",
    "(x_train, t_train), (x_test, t_test) = \\\n",
    "load_mnist(flatten=True, normalize=False)\n",
    "\n",
    "img = x_train[0]\n",
    "label = t_train[0]\n",
    "print(label)\n",
    "\n",
    "print(img.shape)\n",
    "img = img.reshape(28,28) #flatten=True로 설정해 1차원 넘파이로 저장된 데이터 28*28 크기로 변환 \n",
    "print(img.shape)\n",
    "\n",
    "img_show(img)\n"
   ]
  },
  {
   "cell_type": "markdown",
   "id": "e990cd5d",
   "metadata": {},
   "source": [
    "### 신경망 구축"
   ]
  },
  {
   "cell_type": "code",
   "execution_count": 5,
   "id": "01027bae",
   "metadata": {},
   "outputs": [],
   "source": [
    "import pickle"
   ]
  },
  {
   "cell_type": "code",
   "execution_count": 6,
   "id": "9fb9f54f",
   "metadata": {},
   "outputs": [],
   "source": [
    "#활성함수 \n",
    "def sigmoid(x):\n",
    "    return 1/(1+np.exp(-x))\n",
    "\n",
    "def softmax(a):\n",
    "    c = np.max(a)\n",
    "    return np.exp(a-c)/np.sum(np.exp(a-c))"
   ]
  },
  {
   "cell_type": "code",
   "execution_count": 7,
   "id": "342b302b",
   "metadata": {},
   "outputs": [],
   "source": [
    "def get_data():\n",
    "    (x_train, t_train), (x_test, t_test) = \\\n",
    "    load_mnist(flatten=True, normalize=True, one_hot_label=False)\n",
    "    #nomalize=True 각 픽셀 값을 0.0~1.0으로 정규화(전처리) \n",
    "    #flatten=True 2차원을 1차월으로 가지고옴 28*28->784\n",
    "    return x_test, t_test\n",
    "\n",
    "#pickle파일에 저장되어 있는 '학습된 가중치 매개변수'를 읽음-가중치 편향 매개변수 딕셔너리로 저장\n",
    "def init_network():\n",
    "    with open(\"sample_weight.pkl\", 'rb') as f:\n",
    "        network = pickle.load(f)\n",
    "        \n",
    "    return network\n",
    "\n",
    "def predict(network, x):\n",
    "    W1, W2, W3 = network['W1'], network['W2'], network['W3']\n",
    "    b1, b2, b3 = network['b1'], network['b2'], network['b3']\n",
    "    \n",
    "    a1 = np.dot(x,W1)+b1\n",
    "    z1 = sigmoid(a1)\n",
    "    a2 = np.dot(z1,W2)+b2\n",
    "    z2 = sigmoid(a2)\n",
    "    a3 = np.dot(z2,W3)+b3\n",
    "    y = softmax(a3)\n",
    "    \n",
    "    return y\n",
    "    "
   ]
  },
  {
   "cell_type": "code",
   "execution_count": 8,
   "id": "df527a81",
   "metadata": {},
   "outputs": [
    {
     "name": "stdout",
     "output_type": "stream",
     "text": [
      "Accuracy:0.9352\n"
     ]
    }
   ],
   "source": [
    "#정확도 계산 \n",
    "x, t = get_data() #mnist 데이터 얻음 \n",
    "network = init_network() #네트워크 생성\n",
    "\n",
    "accuracy_cnt = 0\n",
    "for i in range(len(x)): #데이터 하나씩 분류 - 확률을 넘파이 배열로 분류 \n",
    "    y = predict(network, x[i]) \n",
    "    p = np.argmax(y) # 확률이 가장 높은 원소의 인덱스 얻음 - 예측 결과 \n",
    "    if p == t[i]: #답과 비교해 맞춘 갯수 측정 \n",
    "        accuracy_cnt += 1\n",
    "\n",
    "print(\"Accuracy:\" + str(float(accuracy_cnt)/len(x)) ) #정확도 구함 "
   ]
  },
  {
   "cell_type": "code",
   "execution_count": 9,
   "id": "8fc133c2",
   "metadata": {},
   "outputs": [],
   "source": [
    "x,_ = get_data()\n",
    "network = init_network()\n",
    "W1, W2, W3 = network['W1'], network['W2'], network['W3']"
   ]
  },
  {
   "cell_type": "code",
   "execution_count": 10,
   "id": "a791e698",
   "metadata": {},
   "outputs": [
    {
     "data": {
      "text/plain": [
       "(10000, 784)"
      ]
     },
     "execution_count": 10,
     "metadata": {},
     "output_type": "execute_result"
    }
   ],
   "source": [
    "x.shape"
   ]
  },
  {
   "cell_type": "code",
   "execution_count": 11,
   "id": "78f921c3",
   "metadata": {},
   "outputs": [
    {
     "data": {
      "text/plain": [
       "(784,)"
      ]
     },
     "execution_count": 11,
     "metadata": {},
     "output_type": "execute_result"
    }
   ],
   "source": [
    "x[0].shape"
   ]
  },
  {
   "cell_type": "code",
   "execution_count": 12,
   "id": "20f02a50",
   "metadata": {},
   "outputs": [
    {
     "data": {
      "text/plain": [
       "(784, 50)"
      ]
     },
     "execution_count": 12,
     "metadata": {},
     "output_type": "execute_result"
    }
   ],
   "source": [
    "W1.shape"
   ]
  },
  {
   "cell_type": "code",
   "execution_count": 13,
   "id": "cb7ae25a",
   "metadata": {},
   "outputs": [
    {
     "data": {
      "text/plain": [
       "(50, 100)"
      ]
     },
     "execution_count": 13,
     "metadata": {},
     "output_type": "execute_result"
    }
   ],
   "source": [
    "W2.shape"
   ]
  },
  {
   "cell_type": "code",
   "execution_count": 14,
   "id": "4d9e9965",
   "metadata": {},
   "outputs": [
    {
     "data": {
      "text/plain": [
       "(100, 10)"
      ]
     },
     "execution_count": 14,
     "metadata": {},
     "output_type": "execute_result"
    }
   ],
   "source": [
    "W3.shape"
   ]
  },
  {
   "cell_type": "markdown",
   "id": "525510f2",
   "metadata": {},
   "source": [
    "### 배치처리 구현"
   ]
  },
  {
   "cell_type": "code",
   "execution_count": 15,
   "id": "c2d2cbba",
   "metadata": {
    "scrolled": true
   },
   "outputs": [
    {
     "name": "stdout",
     "output_type": "stream",
     "text": [
      "Accuracy:0.9352\n"
     ]
    }
   ],
   "source": [
    "x, t = get_data()\n",
    "network = init_network()\n",
    "\n",
    "batch_size = 100\n",
    "accuracy_cnt = 0\n",
    "\n",
    "for i in range(0, len(x), batch_size):\n",
    "    x_batch = x[i:i+batch_size] #사진을 100장씩 묶어서 꺼냄 \n",
    "    y_batch = predict(network, x_batch)\n",
    "    p = np.argmax(y_batch, axis=1) #1번째 차원을 구성하는 각 원소에서 최댓값 인덱스를 찾음 - 0번째, 1번째 \n",
    "    accuracy_cnt += np.sum(p==t[i:i+batch_size]) # True가 몇 개인지 셈\n",
    "    \n",
    "print(\"Accuracy:\" + str(float(accuracy_cnt)/len(x)) )"
   ]
  },
  {
   "cell_type": "code",
   "execution_count": 16,
   "id": "2f69a552",
   "metadata": {
    "scrolled": true
   },
   "outputs": [
    {
     "name": "stdout",
     "output_type": "stream",
     "text": [
      "[[0.1 0.8 0.1]\n",
      " [0.3 0.1 0.6]\n",
      " [0.2 0.5 0.3]\n",
      " [0.8 0.1 0.1]]\n",
      "[1 2 1 0]\n"
     ]
    }
   ],
   "source": [
    "#axis예시\n",
    "x = np.array([[0.1,0.8,0.1],[0.3,0.1,0.6],[0.2,0.5,0.3],[0.8,0.1,0.1]])\n",
    "y = np.argmax(x, axis=1)\n",
    "print(x)\n",
    "print(y)"
   ]
  }
 ],
 "metadata": {
  "kernelspec": {
   "display_name": "Python 3 (ipykernel)",
   "language": "python",
   "name": "python3"
  },
  "language_info": {
   "codemirror_mode": {
    "name": "ipython",
    "version": 3
   },
   "file_extension": ".py",
   "mimetype": "text/x-python",
   "name": "python",
   "nbconvert_exporter": "python",
   "pygments_lexer": "ipython3",
   "version": "3.9.13"
  }
 },
 "nbformat": 4,
 "nbformat_minor": 5
}
