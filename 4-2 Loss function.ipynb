{
 "cells": [
  {
   "cell_type": "code",
   "execution_count": 1,
   "id": "2dfa2b53",
   "metadata": {},
   "outputs": [],
   "source": [
    "import numpy as np"
   ]
  },
  {
   "cell_type": "code",
   "execution_count": 4,
   "id": "29db5b74",
   "metadata": {},
   "outputs": [],
   "source": [
    "y=np.array([0.1,0.05,0.6,0.0,0.05,0.1,0.0,0.1,0.0,0.0])\n",
    "t=np.array([0,0,1,0,0,0,0,0,0,0])"
   ]
  },
  {
   "cell_type": "code",
   "execution_count": 3,
   "id": "56272273",
   "metadata": {},
   "outputs": [],
   "source": [
    "#오차제곱합 SSE\n",
    "def SSE(y,t):\n",
    "    return 0.5*np.sum((y-t)**2)"
   ]
  },
  {
   "cell_type": "code",
   "execution_count": 5,
   "id": "6308b656",
   "metadata": {},
   "outputs": [
    {
     "data": {
      "text/plain": [
       "0.09750000000000003"
      ]
     },
     "execution_count": 5,
     "metadata": {},
     "output_type": "execute_result"
    }
   ],
   "source": [
    "SSE(y,t)"
   ]
  },
  {
   "cell_type": "code",
   "execution_count": 6,
   "id": "255e79d4",
   "metadata": {},
   "outputs": [],
   "source": [
    "y=np.array([0.1,0.05,0.1,0.0,0.05,0.1,0.0,0.6,0.0,0.0])"
   ]
  },
  {
   "cell_type": "code",
   "execution_count": 7,
   "id": "1a0f8aa9",
   "metadata": {},
   "outputs": [
    {
     "data": {
      "text/plain": [
       "0.5975"
      ]
     },
     "execution_count": 7,
     "metadata": {},
     "output_type": "execute_result"
    }
   ],
   "source": [
    "SSE(y,t)"
   ]
  },
  {
   "cell_type": "code",
   "execution_count": 8,
   "id": "a6ffe19d",
   "metadata": {},
   "outputs": [],
   "source": [
    "#교차엔트로피 CEE\n",
    "def CEE(y,t):\n",
    "    delta = 1e-7\n",
    "    return -np.sum(t*np.log(y+delta))"
   ]
  },
  {
   "cell_type": "code",
   "execution_count": 9,
   "id": "21be1887",
   "metadata": {},
   "outputs": [
    {
     "data": {
      "text/plain": [
       "0.510825457099338"
      ]
     },
     "execution_count": 9,
     "metadata": {},
     "output_type": "execute_result"
    }
   ],
   "source": [
    "y=np.array([0.1,0.05,0.6,0.0,0.05,0.1,0.0,0.1,0.0,0.0])\n",
    "t=np.array([0,0,1,0,0,0,0,0,0,0])\n",
    "CEE(y,t)"
   ]
  },
  {
   "cell_type": "code",
   "execution_count": 10,
   "id": "21fd4438",
   "metadata": {},
   "outputs": [
    {
     "data": {
      "text/plain": [
       "2.302584092994546"
      ]
     },
     "execution_count": 10,
     "metadata": {},
     "output_type": "execute_result"
    }
   ],
   "source": [
    "y=np.array([0.1,0.05,0.1,0.0,0.05,0.1,0.0,0.6,0.0,0.0])\n",
    "CEE(y,t)"
   ]
  },
  {
   "cell_type": "markdown",
   "id": "e1ac5e94",
   "metadata": {},
   "source": [
    "### 미니배치"
   ]
  },
  {
   "cell_type": "code",
   "execution_count": 14,
   "id": "a24c063a",
   "metadata": {},
   "outputs": [
    {
     "name": "stdout",
     "output_type": "stream",
     "text": [
      "(60000, 784)\n",
      "(60000, 10)\n"
     ]
    }
   ],
   "source": [
    "import sys, os\n",
    "sys.path.append(os.pardir)\n",
    "import numpy as np\n",
    "from dataset.mnist import load_mnist\n",
    "\n",
    "(x_train, t_train),(x_test, t_test) = \\\n",
    "load_mnist(normalize=True, one_hot_label=True)\n",
    "\n",
    "print(x_train.shape)\n",
    "print(t_train.shape)"
   ]
  },
  {
   "cell_type": "code",
   "execution_count": 16,
   "id": "dd9713a0",
   "metadata": {},
   "outputs": [],
   "source": [
    "#무작위 10장만 산출\n",
    "train_size = x_train.shape[0]\n",
    "batch_size = 10\n",
    "batch_mask = np.random.choice(train_size, batch_size)\n",
    "x_batch = x_train[batch_mask]\n",
    "t_batch = t_train[batch_mask]"
   ]
  },
  {
   "cell_type": "code",
   "execution_count": 17,
   "id": "74f61ef1",
   "metadata": {},
   "outputs": [
    {
     "data": {
      "text/plain": [
       "array([13700, 37509, 48918, 11922, 52047, 17391, 38558, 18397, 14979,\n",
       "       23122])"
      ]
     },
     "execution_count": 17,
     "metadata": {},
     "output_type": "execute_result"
    }
   ],
   "source": [
    "#np.random.choice 사용 \n",
    "np.random.choice(60000,10)"
   ]
  },
  {
   "cell_type": "code",
   "execution_count": 18,
   "id": "0fd4a0dc",
   "metadata": {},
   "outputs": [],
   "source": [
    "#배치를 지원하는 교차엔트로피 CEE\n",
    "\n",
    "def CEE(y,t):\n",
    "    if y.ndim == 1: \n",
    "        t = t.reshape(1, t.size)\n",
    "        y = y.reshape(1, y.size)\n",
    "    \n",
    "    batch_size = y.shape[0]\n",
    "    return -np.sum(t*np.log(y + 1e-7))/batch_size #배치 사이즈로 나눠 정규화 "
   ]
  },
  {
   "cell_type": "code",
   "execution_count": 19,
   "id": "7867542e",
   "metadata": {},
   "outputs": [],
   "source": [
    "#원-핫 인코딩이 아닐 때 미니배치 교차엔트로피\n",
    "\n",
    "def CEE(y,t):\n",
    "    if y.ndim ==1:\n",
    "        t = t,reshape(1, t.size)\n",
    "        y = y.reshape(1, y.size)\n",
    "        \n",
    "    batch_size = y.shape[0]\n",
    "    return -np.sum(np,log(y[np.arange(batch_size, t)]+1e-7))/batch_size"
   ]
  }
 ],
 "metadata": {
  "kernelspec": {
   "display_name": "Python 3 (ipykernel)",
   "language": "python",
   "name": "python3"
  },
  "language_info": {
   "codemirror_mode": {
    "name": "ipython",
    "version": 3
   },
   "file_extension": ".py",
   "mimetype": "text/x-python",
   "name": "python",
   "nbconvert_exporter": "python",
   "pygments_lexer": "ipython3",
   "version": "3.9.13"
  }
 },
 "nbformat": 4,
 "nbformat_minor": 5
}
